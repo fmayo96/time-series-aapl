{
 "cells": [
  {
   "cell_type": "markdown",
   "id": "207445d1-f3f7-4446-b0ad-fad7282bcbb2",
   "metadata": {},
   "source": [
    "# Predicting AAPL stock price with an LSTM"
   ]
  },
  {
   "cell_type": "code",
   "execution_count": 57,
   "id": "7e430377-f9e5-4992-836b-761a3132321a",
   "metadata": {},
   "outputs": [],
   "source": [
    "import numpy as np\n",
    "import pandas as pd \n",
    "import matplotlib.pyplot as plt \n",
    "import torch\n",
    "import torch.nn as nn"
   ]
  },
  {
   "cell_type": "code",
   "execution_count": 58,
   "id": "0cccc270-9901-4dc2-bb7e-18ea1772e7b9",
   "metadata": {},
   "outputs": [
    {
     "data": {
      "text/html": [
       "<div>\n",
       "<style scoped>\n",
       "    .dataframe tbody tr th:only-of-type {\n",
       "        vertical-align: middle;\n",
       "    }\n",
       "\n",
       "    .dataframe tbody tr th {\n",
       "        vertical-align: top;\n",
       "    }\n",
       "\n",
       "    .dataframe thead th {\n",
       "        text-align: right;\n",
       "    }\n",
       "</style>\n",
       "<table border=\"1\" class=\"dataframe\">\n",
       "  <thead>\n",
       "    <tr style=\"text-align: right;\">\n",
       "      <th></th>\n",
       "      <th>Date</th>\n",
       "      <th>Close/Last</th>\n",
       "      <th>Volume</th>\n",
       "      <th>Open</th>\n",
       "      <th>High</th>\n",
       "      <th>Low</th>\n",
       "    </tr>\n",
       "  </thead>\n",
       "  <tbody>\n",
       "    <tr>\n",
       "      <th>0</th>\n",
       "      <td>10/22/2024</td>\n",
       "      <td>$235.86</td>\n",
       "      <td>38846580</td>\n",
       "      <td>$233.885</td>\n",
       "      <td>$236.22</td>\n",
       "      <td>$232.60</td>\n",
       "    </tr>\n",
       "    <tr>\n",
       "      <th>1</th>\n",
       "      <td>10/21/2024</td>\n",
       "      <td>$236.48</td>\n",
       "      <td>36254470</td>\n",
       "      <td>$234.45</td>\n",
       "      <td>$236.85</td>\n",
       "      <td>$234.45</td>\n",
       "    </tr>\n",
       "    <tr>\n",
       "      <th>2</th>\n",
       "      <td>10/18/2024</td>\n",
       "      <td>$235.00</td>\n",
       "      <td>46431470</td>\n",
       "      <td>$236.18</td>\n",
       "      <td>$236.18</td>\n",
       "      <td>$234.01</td>\n",
       "    </tr>\n",
       "    <tr>\n",
       "      <th>3</th>\n",
       "      <td>10/17/2024</td>\n",
       "      <td>$232.15</td>\n",
       "      <td>32993810</td>\n",
       "      <td>$233.43</td>\n",
       "      <td>$233.85</td>\n",
       "      <td>$230.52</td>\n",
       "    </tr>\n",
       "    <tr>\n",
       "      <th>4</th>\n",
       "      <td>10/16/2024</td>\n",
       "      <td>$231.78</td>\n",
       "      <td>34082240</td>\n",
       "      <td>$231.60</td>\n",
       "      <td>$232.12</td>\n",
       "      <td>$229.84</td>\n",
       "    </tr>\n",
       "  </tbody>\n",
       "</table>\n",
       "</div>"
      ],
      "text/plain": [
       "         Date Close/Last    Volume      Open     High      Low\n",
       "0  10/22/2024    $235.86  38846580  $233.885  $236.22  $232.60\n",
       "1  10/21/2024    $236.48  36254470   $234.45  $236.85  $234.45\n",
       "2  10/18/2024    $235.00  46431470   $236.18  $236.18  $234.01\n",
       "3  10/17/2024    $232.15  32993810   $233.43  $233.85  $230.52\n",
       "4  10/16/2024    $231.78  34082240   $231.60  $232.12  $229.84"
      ]
     },
     "execution_count": 58,
     "metadata": {},
     "output_type": "execute_result"
    }
   ],
   "source": [
    "data = pd.read_csv(\"AAPL.csv\")\n",
    "data.head()"
   ]
  },
  {
   "cell_type": "code",
   "execution_count": 59,
   "id": "f6843b72-f110-4d4e-8b3b-ecc5aef3aaed",
   "metadata": {},
   "outputs": [
    {
     "data": {
      "text/html": [
       "<div>\n",
       "<style scoped>\n",
       "    .dataframe tbody tr th:only-of-type {\n",
       "        vertical-align: middle;\n",
       "    }\n",
       "\n",
       "    .dataframe tbody tr th {\n",
       "        vertical-align: top;\n",
       "    }\n",
       "\n",
       "    .dataframe thead th {\n",
       "        text-align: right;\n",
       "    }\n",
       "</style>\n",
       "<table border=\"1\" class=\"dataframe\">\n",
       "  <thead>\n",
       "    <tr style=\"text-align: right;\">\n",
       "      <th></th>\n",
       "      <th>Date</th>\n",
       "      <th>Close/Last</th>\n",
       "      <th>Volume</th>\n",
       "      <th>Open</th>\n",
       "      <th>High</th>\n",
       "      <th>Low</th>\n",
       "    </tr>\n",
       "  </thead>\n",
       "  <tbody>\n",
       "    <tr>\n",
       "      <th>0</th>\n",
       "      <td>10/22/2024</td>\n",
       "      <td>235.860001</td>\n",
       "      <td>38846580</td>\n",
       "      <td>233.884995</td>\n",
       "      <td>236.220001</td>\n",
       "      <td>232.600006</td>\n",
       "    </tr>\n",
       "    <tr>\n",
       "      <th>1</th>\n",
       "      <td>10/21/2024</td>\n",
       "      <td>236.479996</td>\n",
       "      <td>36254470</td>\n",
       "      <td>234.449997</td>\n",
       "      <td>236.850006</td>\n",
       "      <td>234.449997</td>\n",
       "    </tr>\n",
       "    <tr>\n",
       "      <th>2</th>\n",
       "      <td>10/18/2024</td>\n",
       "      <td>235.000000</td>\n",
       "      <td>46431470</td>\n",
       "      <td>236.179993</td>\n",
       "      <td>236.179993</td>\n",
       "      <td>234.009995</td>\n",
       "    </tr>\n",
       "    <tr>\n",
       "      <th>3</th>\n",
       "      <td>10/17/2024</td>\n",
       "      <td>232.149994</td>\n",
       "      <td>32993810</td>\n",
       "      <td>233.429993</td>\n",
       "      <td>233.850006</td>\n",
       "      <td>230.520004</td>\n",
       "    </tr>\n",
       "    <tr>\n",
       "      <th>4</th>\n",
       "      <td>10/16/2024</td>\n",
       "      <td>231.779999</td>\n",
       "      <td>34082240</td>\n",
       "      <td>231.600006</td>\n",
       "      <td>232.119995</td>\n",
       "      <td>229.839996</td>\n",
       "    </tr>\n",
       "  </tbody>\n",
       "</table>\n",
       "</div>"
      ],
      "text/plain": [
       "         Date  Close/Last    Volume        Open        High         Low\n",
       "0  10/22/2024  235.860001  38846580  233.884995  236.220001  232.600006\n",
       "1  10/21/2024  236.479996  36254470  234.449997  236.850006  234.449997\n",
       "2  10/18/2024  235.000000  46431470  236.179993  236.179993  234.009995\n",
       "3  10/17/2024  232.149994  32993810  233.429993  233.850006  230.520004\n",
       "4  10/16/2024  231.779999  34082240  231.600006  232.119995  229.839996"
      ]
     },
     "execution_count": 59,
     "metadata": {},
     "output_type": "execute_result"
    }
   ],
   "source": [
    "data[\"Close/Last\"] = [np.float32(val[1:]) for val in data[\"Close/Last\"]]\n",
    "data[\"Open\"] = [np.float32(val[1:]) for val in data[\"Open\"]]\n",
    "data[\"High\"] = [np.float32(val[1:]) for val in data[\"High\"]]\n",
    "data[\"Low\"] = [np.float32(val[1:]) for val in data[\"Low\"]]\n",
    "data.head()"
   ]
  },
  {
   "cell_type": "code",
   "execution_count": 60,
   "id": "49ddb69a-fd5e-47dd-b506-d236b7687b93",
   "metadata": {},
   "outputs": [],
   "source": [
    "data[\"Date\"] = pd.to_datetime(data[\"Date\"])\n",
    "data.sort_values(by=\"Date\", inplace=True)"
   ]
  },
  {
   "cell_type": "code",
   "execution_count": 61,
   "id": "dcb48216-4193-4fbc-9252-1116c4595579",
   "metadata": {},
   "outputs": [
    {
     "data": {
      "text/plain": [
       "<matplotlib.legend.Legend at 0x16c01f2e0>"
      ]
     },
     "execution_count": 61,
     "metadata": {},
     "output_type": "execute_result"
    },
    {
     "data": {
      "image/png": "[encoded data removed]",
      "text/plain": [
       "<Figure size 640x480 with 1 Axes>"
      ]
     },
     "metadata": {},
     "output_type": "display_data"
    }
   ],
   "source": [
    "plt.plot(data[\"Date\"], data[\"High\"], label = \"High\")\n",
    "plt.plot(data[\"Date\"], data[\"Low\"], label = \"Low\")\n",
    "plt.xlabel(\"Date (Year)\")\n",
    "plt.ylabel(\"Stock Price USD\")\n",
    "plt.legend()"
   ]
  },
  {
   "cell_type": "code",
   "execution_count": 140,
   "id": "4717bd9b-e08f-4a19-aeb2-cf559c837f9b",
   "metadata": {},
   "outputs": [
    {
     "data": {
      "text/plain": [
       "(torch.Size([2486, 30]), torch.Size([2486]))"
      ]
     },
     "execution_count": 140,
     "metadata": {},
     "output_type": "execute_result"
    }
   ],
   "source": [
    "high = data[\"High\"].to_numpy()\n",
    "\n",
    "def create_dataset(window_size):\n",
    "    X = []\n",
    "    y = []\n",
    "    for i in range(len(high)-window_size):\n",
    "        X.append(high[i:i+window_size])\n",
    "        y.append(high[i+window_size])\n",
    "    return torch.tensor(X),torch.tensor(y)\n",
    "\n",
    "window_size = 30\n",
    "X, y = create_dataset(window_size)\n",
    "X.shape, y.shape"
   ]
  },
  {
   "cell_type": "code",
   "execution_count": 141,
   "id": "3c5abc93-8c09-4757-b930-23e936ed61b9",
   "metadata": {},
   "outputs": [
    {
     "name": "stdout",
     "output_type": "stream",
     "text": [
      "torch.Size([1988, 30]) torch.Size([1988])\n",
      "torch.Size([249, 30]) torch.Size([249])\n",
      "torch.Size([249, 30]) torch.Size([249])\n"
     ]
    }
   ],
   "source": [
    "N = len(X)\n",
    "X_train, y_train = X[:int(0.8*N)], y[:int(0.8*N)]\n",
    "X_val, y_val = X[int(0.8*N):int(0.9*N)], y[int(0.8*N):int(0.9*N)]\n",
    "X_test, y_test = X[int(0.9*N):], y[int(0.9*N):]\n",
    "print(X_train.shape, y_train.shape)\n",
    "print(X_val.shape, y_val.shape)\n",
    "print(X_test.shape, y_test.shape)"
   ]
  },
  {
   "cell_type": "code",
   "execution_count": 155,
   "id": "117e1b0b-de09-4fee-a058-26b2d531b212",
   "metadata": {},
   "outputs": [],
   "source": [
    "n_hidden_lstm = 64\n",
    "n_hidden_linear = 10\n",
    "class Model(nn.Module):\n",
    "    def __init__(self):\n",
    "        super().__init__()\n",
    "        self.lstm = nn.LSTM(window_size, n_hidden_lstm, batch_first=True)\n",
    "        self.l1 = nn.Linear(n_hidden_lstm, n_hidden_linear)\n",
    "        self.relu = nn.ReLU()\n",
    "        self.l2 = nn.Linear(n_hidden_linear, 1)\n",
    "    def forward(self, x):\n",
    "        x1, _ = self.lstm(x)\n",
    "        x2 = self.l1(x1)\n",
    "        x2 = self.relu(x2)\n",
    "        x3 = self.l2(x2)\n",
    "        return x3"
   ]
  },
  {
   "cell_type": "code",
   "execution_count": 156,
   "id": "de929bb8-af24-4456-a261-9b1c66cd529b",
   "metadata": {},
   "outputs": [],
   "source": [
    "model = Model()\n",
    "optimizer = torch.optim.Adam(model.parameters(), lr=1e-3)\n",
    "loss_fn = nn.MSELoss()"
   ]
  },
  {
   "cell_type": "code",
   "execution_count": 158,
   "id": "58a33bc2-f450-4487-b6e8-ff9e703a14d0",
   "metadata": {},
   "outputs": [
    {
     "name": "stdout",
     "output_type": "stream",
     "text": [
      "Epoch: 0 | loss: 315961.5318784714\n",
      "Epoch: 10 | loss: 318494.013171196\n",
      "Epoch: 20 | loss: 318357.7758512497\n",
      "Epoch: 30 | loss: 318243.1001148224\n",
      "Epoch: 40 | loss: 318187.0398874283\n",
      "Epoch: 50 | loss: 318146.8404531479\n",
      "Epoch: 60 | loss: 318111.2427330017\n",
      "Epoch: 70 | loss: 318077.28089237213\n",
      "Epoch: 80 | loss: 318044.46280002594\n",
      "Epoch: 90 | loss: 318012.05450725555\n"
     ]
    }
   ],
   "source": [
    "EPOCHS = 100\n",
    "BATCH_SIZE = 16\n",
    "\n",
    "def train(X, y, epochs, batch_size):\n",
    "    for epoch in range(epochs):\n",
    "        mean_loss = 0\n",
    "        count = 0\n",
    "        for i in range(0, len(X), batch_size):\n",
    "            predicted = model(X[i:i+batch_size])\n",
    "            true_val = y[i:i+batch_size]\n",
    "            predicted = predicted.squeeze()\n",
    "            optimizer.zero_grad()\n",
    "            loss = loss_fn(predicted, true_val)\n",
    "            mean_loss += loss.item()\n",
    "            count += 1\n",
    "            loss.backward()\n",
    "            optimizer.step()\n",
    "        if epoch % 10 == 0:\n",
    "            print(f\"Epoch: {epoch} | loss: {mean_loss}\")\n",
    "train(X_train, y_train, EPOCHS, BATCH_SIZE)"
   ]
  },
  {
   "cell_type": "code",
   "execution_count": 159,
   "id": "b90223d7-38de-4cad-a87a-bb5499063b47",
   "metadata": {},
   "outputs": [
    {
     "data": {
      "text/plain": [
       "(1988, 1)"
      ]
     },
     "execution_count": 159,
     "metadata": {},
     "output_type": "execute_result"
    }
   ],
   "source": [
    "predictions = model(X_train)\n",
    "predictions = np.array(predictions.detach())\n",
    "true_values = np.array(y_train)\n",
    "predictions.shape"
   ]
  },
  {
   "cell_type": "code",
   "execution_count": 160,
   "id": "c00b2140-5a52-4446-a2ab-3daa41eb5982",
   "metadata": {},
   "outputs": [
    {
     "data": {
      "text/plain": [
       "<matplotlib.legend.Legend at 0x17730d820>"
      ]
     },
     "execution_count": 160,
     "metadata": {},
     "output_type": "execute_result"
    },
    {
     "data": {
      "image/png": "[encoded data removed]",
      "text/plain": [
       "<Figure size 640x480 with 1 Axes>"
      ]
     },
     "metadata": {},
     "output_type": "display_data"
    }
   ],
   "source": [
    "plt.plot(true_values, label = \"Real values\")\n",
    "plt.plot(predictions, label = \"Predictions\")\n",
    "plt.legend()"
   ]
  },
  {
   "cell_type": "code",
   "execution_count": 88,
   "id": "67062623-6c66-423a-9e1a-380a5dd450e6",
   "metadata": {},
   "outputs": [
    {
     "data": {
      "text/plain": [
       "tensor([[26.2628, 26.3725, 26.3700, 26.6850, 26.8425],\n",
       "        [26.3725, 26.3700, 26.6850, 26.8425, 26.8375],\n",
       "        [26.3700, 26.6850, 26.8425, 26.8375, 27.0100],\n",
       "        [26.6850, 26.8425, 26.8375, 27.0100, 27.5750],\n",
       "        [26.8425, 26.8375, 27.0100, 27.5750, 27.3725],\n",
       "        [26.8375, 27.0100, 27.5750, 27.3725, 27.3250],\n",
       "        [27.0100, 27.5750, 27.3725, 27.3250, 27.1975],\n",
       "        [27.5750, 27.3725, 27.3250, 27.1975, 27.3300],\n",
       "        [27.3725, 27.3250, 27.1975, 27.3300, 27.3325],\n",
       "        [27.3250, 27.1975, 27.3300, 27.3325, 27.4375]])"
      ]
     },
     "execution_count": 88,
     "metadata": {},
     "output_type": "execute_result"
    }
   ],
   "source": []
  },
  {
   "cell_type": "code",
   "execution_count": null,
   "id": "b87f491f-bce3-4cbb-bb61-c1f38daf434e",
   "metadata": {},
   "outputs": [],
   "source": []
  }
 ],
 "metadata": {
  "kernelspec": {
   "display_name": "Python 3 (ipykernel)",
   "language": "python",
   "name": "python3"
  },
  "language_info": {
   "codemirror_mode": {
    "name": "ipython",
    "version": 3
   },
   "file_extension": ".py",
   "mimetype": "text/x-python",
   "name": "python",
   "nbconvert_exporter": "python",
   "pygments_lexer": "ipython3",
   "version": "3.9.6"
  }
 },
 "nbformat": 4,
 "nbformat_minor": 5
}

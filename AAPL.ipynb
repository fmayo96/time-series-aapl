{
 "cells": [
  {
   "cell_type": "markdown",
   "id": "207445d1-f3f7-4446-b0ad-fad7282bcbb2",
   "metadata": {},
   "source": [
    "# Predicting AAPL stock price with an LSTM"
   ]
  },
  {
   "cell_type": "code",
   "execution_count": 30,
   "id": "7e430377-f9e5-4992-836b-761a3132321a",
   "metadata": {},
   "outputs": [],
   "source": [
    "import numpy as np\n",
    "import pandas as pd \n",
    "import matplotlib.pyplot as plt \n",
    "import torch\n",
    "import torch.nn as nn"
   ]
  },
  {
   "cell_type": "code",
   "execution_count": 11,
   "id": "0cccc270-9901-4dc2-bb7e-18ea1772e7b9",
   "metadata": {},
   "outputs": [
    {
     "data": {
      "text/html": [
       "<div>\n",
       "<style scoped>\n",
       "    .dataframe tbody tr th:only-of-type {\n",
       "        vertical-align: middle;\n",
       "    }\n",
       "\n",
       "    .dataframe tbody tr th {\n",
       "        vertical-align: top;\n",
       "    }\n",
       "\n",
       "    .dataframe thead th {\n",
       "        text-align: right;\n",
       "    }\n",
       "</style>\n",
       "<table border=\"1\" class=\"dataframe\">\n",
       "  <thead>\n",
       "    <tr style=\"text-align: right;\">\n",
       "      <th></th>\n",
       "      <th>Date</th>\n",
       "      <th>Close/Last</th>\n",
       "      <th>Volume</th>\n",
       "      <th>Open</th>\n",
       "      <th>High</th>\n",
       "      <th>Low</th>\n",
       "    </tr>\n",
       "  </thead>\n",
       "  <tbody>\n",
       "    <tr>\n",
       "      <th>0</th>\n",
       "      <td>10/22/2024</td>\n",
       "      <td>$235.86</td>\n",
       "      <td>38846580</td>\n",
       "      <td>$233.885</td>\n",
       "      <td>$236.22</td>\n",
       "      <td>$232.60</td>\n",
       "    </tr>\n",
       "    <tr>\n",
       "      <th>1</th>\n",
       "      <td>10/21/2024</td>\n",
       "      <td>$236.48</td>\n",
       "      <td>36254470</td>\n",
       "      <td>$234.45</td>\n",
       "      <td>$236.85</td>\n",
       "      <td>$234.45</td>\n",
       "    </tr>\n",
       "    <tr>\n",
       "      <th>2</th>\n",
       "      <td>10/18/2024</td>\n",
       "      <td>$235.00</td>\n",
       "      <td>46431470</td>\n",
       "      <td>$236.18</td>\n",
       "      <td>$236.18</td>\n",
       "      <td>$234.01</td>\n",
       "    </tr>\n",
       "    <tr>\n",
       "      <th>3</th>\n",
       "      <td>10/17/2024</td>\n",
       "      <td>$232.15</td>\n",
       "      <td>32993810</td>\n",
       "      <td>$233.43</td>\n",
       "      <td>$233.85</td>\n",
       "      <td>$230.52</td>\n",
       "    </tr>\n",
       "    <tr>\n",
       "      <th>4</th>\n",
       "      <td>10/16/2024</td>\n",
       "      <td>$231.78</td>\n",
       "      <td>34082240</td>\n",
       "      <td>$231.60</td>\n",
       "      <td>$232.12</td>\n",
       "      <td>$229.84</td>\n",
       "    </tr>\n",
       "  </tbody>\n",
       "</table>\n",
       "</div>"
      ],
      "text/plain": [
       "         Date Close/Last    Volume      Open     High      Low\n",
       "0  10/22/2024    $235.86  38846580  $233.885  $236.22  $232.60\n",
       "1  10/21/2024    $236.48  36254470   $234.45  $236.85  $234.45\n",
       "2  10/18/2024    $235.00  46431470   $236.18  $236.18  $234.01\n",
       "3  10/17/2024    $232.15  32993810   $233.43  $233.85  $230.52\n",
       "4  10/16/2024    $231.78  34082240   $231.60  $232.12  $229.84"
      ]
     },
     "execution_count": 11,
     "metadata": {},
     "output_type": "execute_result"
    }
   ],
   "source": [
    "data = pd.read_csv(\"AAPL.csv\")\n",
    "data.head()"
   ]
  },
  {
   "cell_type": "code",
   "execution_count": 12,
   "id": "f6843b72-f110-4d4e-8b3b-ecc5aef3aaed",
   "metadata": {},
   "outputs": [],
   "source": [
    "data[\"Close/Last\"] = [np.float32(val[1:]) for val in data[\"Close/Last\"]]\n",
    "data[\"Open\"] = [np.float32(val[1:]) for val in data[\"Open\"]]\n",
    "data[\"High\"] = [np.float32(val[1:]) for val in data[\"High\"]]\n",
    "data[\"Low\"] = [np.float32(val[1:]) for val in data[\"Low\"]]"
   ]
  },
  {
   "cell_type": "code",
   "execution_count": 13,
   "id": "f41f552c-b90d-4ed7-88bc-4e30d0a0a7f9",
   "metadata": {},
   "outputs": [
    {
     "data": {
      "text/html": [
       "<div>\n",
       "<style scoped>\n",
       "    .dataframe tbody tr th:only-of-type {\n",
       "        vertical-align: middle;\n",
       "    }\n",
       "\n",
       "    .dataframe tbody tr th {\n",
       "        vertical-align: top;\n",
       "    }\n",
       "\n",
       "    .dataframe thead th {\n",
       "        text-align: right;\n",
       "    }\n",
       "</style>\n",
       "<table border=\"1\" class=\"dataframe\">\n",
       "  <thead>\n",
       "    <tr style=\"text-align: right;\">\n",
       "      <th></th>\n",
       "      <th>Date</th>\n",
       "      <th>Close/Last</th>\n",
       "      <th>Volume</th>\n",
       "      <th>Open</th>\n",
       "      <th>High</th>\n",
       "      <th>Low</th>\n",
       "    </tr>\n",
       "  </thead>\n",
       "  <tbody>\n",
       "    <tr>\n",
       "      <th>0</th>\n",
       "      <td>10/22/2024</td>\n",
       "      <td>235.860001</td>\n",
       "      <td>38846580</td>\n",
       "      <td>233.884995</td>\n",
       "      <td>236.220001</td>\n",
       "      <td>232.600006</td>\n",
       "    </tr>\n",
       "    <tr>\n",
       "      <th>1</th>\n",
       "      <td>10/21/2024</td>\n",
       "      <td>236.479996</td>\n",
       "      <td>36254470</td>\n",
       "      <td>234.449997</td>\n",
       "      <td>236.850006</td>\n",
       "      <td>234.449997</td>\n",
       "    </tr>\n",
       "    <tr>\n",
       "      <th>2</th>\n",
       "      <td>10/18/2024</td>\n",
       "      <td>235.000000</td>\n",
       "      <td>46431470</td>\n",
       "      <td>236.179993</td>\n",
       "      <td>236.179993</td>\n",
       "      <td>234.009995</td>\n",
       "    </tr>\n",
       "    <tr>\n",
       "      <th>3</th>\n",
       "      <td>10/17/2024</td>\n",
       "      <td>232.149994</td>\n",
       "      <td>32993810</td>\n",
       "      <td>233.429993</td>\n",
       "      <td>233.850006</td>\n",
       "      <td>230.520004</td>\n",
       "    </tr>\n",
       "    <tr>\n",
       "      <th>4</th>\n",
       "      <td>10/16/2024</td>\n",
       "      <td>231.779999</td>\n",
       "      <td>34082240</td>\n",
       "      <td>231.600006</td>\n",
       "      <td>232.119995</td>\n",
       "      <td>229.839996</td>\n",
       "    </tr>\n",
       "  </tbody>\n",
       "</table>\n",
       "</div>"
      ],
      "text/plain": [
       "         Date  Close/Last    Volume        Open        High         Low\n",
       "0  10/22/2024  235.860001  38846580  233.884995  236.220001  232.600006\n",
       "1  10/21/2024  236.479996  36254470  234.449997  236.850006  234.449997\n",
       "2  10/18/2024  235.000000  46431470  236.179993  236.179993  234.009995\n",
       "3  10/17/2024  232.149994  32993810  233.429993  233.850006  230.520004\n",
       "4  10/16/2024  231.779999  34082240  231.600006  232.119995  229.839996"
      ]
     },
     "execution_count": 13,
     "metadata": {},
     "output_type": "execute_result"
    }
   ],
   "source": [
    "data.head()"
   ]
  },
  {
   "cell_type": "code",
   "execution_count": 15,
   "id": "49ddb69a-fd5e-47dd-b506-d236b7687b93",
   "metadata": {},
   "outputs": [
    {
     "data": {
      "text/html": [
       "<div>\n",
       "<style scoped>\n",
       "    .dataframe tbody tr th:only-of-type {\n",
       "        vertical-align: middle;\n",
       "    }\n",
       "\n",
       "    .dataframe tbody tr th {\n",
       "        vertical-align: top;\n",
       "    }\n",
       "\n",
       "    .dataframe thead th {\n",
       "        text-align: right;\n",
       "    }\n",
       "</style>\n",
       "<table border=\"1\" class=\"dataframe\">\n",
       "  <thead>\n",
       "    <tr style=\"text-align: right;\">\n",
       "      <th></th>\n",
       "      <th>Date</th>\n",
       "      <th>Close/Last</th>\n",
       "      <th>Volume</th>\n",
       "      <th>Open</th>\n",
       "      <th>High</th>\n",
       "      <th>Low</th>\n",
       "    </tr>\n",
       "  </thead>\n",
       "  <tbody>\n",
       "    <tr>\n",
       "      <th>0</th>\n",
       "      <td>2024-10-22</td>\n",
       "      <td>235.860001</td>\n",
       "      <td>38846580</td>\n",
       "      <td>233.884995</td>\n",
       "      <td>236.220001</td>\n",
       "      <td>232.600006</td>\n",
       "    </tr>\n",
       "    <tr>\n",
       "      <th>1</th>\n",
       "      <td>2024-10-21</td>\n",
       "      <td>236.479996</td>\n",
       "      <td>36254470</td>\n",
       "      <td>234.449997</td>\n",
       "      <td>236.850006</td>\n",
       "      <td>234.449997</td>\n",
       "    </tr>\n",
       "    <tr>\n",
       "      <th>2</th>\n",
       "      <td>2024-10-18</td>\n",
       "      <td>235.000000</td>\n",
       "      <td>46431470</td>\n",
       "      <td>236.179993</td>\n",
       "      <td>236.179993</td>\n",
       "      <td>234.009995</td>\n",
       "    </tr>\n",
       "    <tr>\n",
       "      <th>3</th>\n",
       "      <td>2024-10-17</td>\n",
       "      <td>232.149994</td>\n",
       "      <td>32993810</td>\n",
       "      <td>233.429993</td>\n",
       "      <td>233.850006</td>\n",
       "      <td>230.520004</td>\n",
       "    </tr>\n",
       "    <tr>\n",
       "      <th>4</th>\n",
       "      <td>2024-10-16</td>\n",
       "      <td>231.779999</td>\n",
       "      <td>34082240</td>\n",
       "      <td>231.600006</td>\n",
       "      <td>232.119995</td>\n",
       "      <td>229.839996</td>\n",
       "    </tr>\n",
       "  </tbody>\n",
       "</table>\n",
       "</div>"
      ],
      "text/plain": [
       "        Date  Close/Last    Volume        Open        High         Low\n",
       "0 2024-10-22  235.860001  38846580  233.884995  236.220001  232.600006\n",
       "1 2024-10-21  236.479996  36254470  234.449997  236.850006  234.449997\n",
       "2 2024-10-18  235.000000  46431470  236.179993  236.179993  234.009995\n",
       "3 2024-10-17  232.149994  32993810  233.429993  233.850006  230.520004\n",
       "4 2024-10-16  231.779999  34082240  231.600006  232.119995  229.839996"
      ]
     },
     "execution_count": 15,
     "metadata": {},
     "output_type": "execute_result"
    }
   ],
   "source": [
    "data[\"Date\"] = pd.to_datetime(data[\"Date\"])\n",
    "data.head()"
   ]
  },
  {
   "cell_type": "code",
   "execution_count": 22,
   "id": "17e71126-4433-4d29-9829-7380a5985003",
   "metadata": {},
   "outputs": [],
   "source": [
    "data.sort_values(by=\"Date\", inplace=True)"
   ]
  },
  {
   "cell_type": "code",
   "execution_count": 23,
   "id": "1d94787a-dd33-44f6-8cb4-a6b696c8c063",
   "metadata": {},
   "outputs": [
    {
     "data": {
      "text/html": [
       "<div>\n",
       "<style scoped>\n",
       "    .dataframe tbody tr th:only-of-type {\n",
       "        vertical-align: middle;\n",
       "    }\n",
       "\n",
       "    .dataframe tbody tr th {\n",
       "        vertical-align: top;\n",
       "    }\n",
       "\n",
       "    .dataframe thead th {\n",
       "        text-align: right;\n",
       "    }\n",
       "</style>\n",
       "<table border=\"1\" class=\"dataframe\">\n",
       "  <thead>\n",
       "    <tr style=\"text-align: right;\">\n",
       "      <th></th>\n",
       "      <th>Date</th>\n",
       "      <th>Close/Last</th>\n",
       "      <th>Volume</th>\n",
       "      <th>Open</th>\n",
       "      <th>High</th>\n",
       "      <th>Low</th>\n",
       "    </tr>\n",
       "  </thead>\n",
       "  <tbody>\n",
       "    <tr>\n",
       "      <th>2515</th>\n",
       "      <td>2014-10-23</td>\n",
       "      <td>26.207500</td>\n",
       "      <td>283040600</td>\n",
       "      <td>26.0200</td>\n",
       "      <td>26.262800</td>\n",
       "      <td>25.907499</td>\n",
       "    </tr>\n",
       "    <tr>\n",
       "      <th>2514</th>\n",
       "      <td>2014-10-24</td>\n",
       "      <td>26.305000</td>\n",
       "      <td>187751520</td>\n",
       "      <td>26.2950</td>\n",
       "      <td>26.372499</td>\n",
       "      <td>26.132500</td>\n",
       "    </tr>\n",
       "    <tr>\n",
       "      <th>2513</th>\n",
       "      <td>2014-10-27</td>\n",
       "      <td>26.277500</td>\n",
       "      <td>136344480</td>\n",
       "      <td>26.2125</td>\n",
       "      <td>26.370001</td>\n",
       "      <td>26.174999</td>\n",
       "    </tr>\n",
       "    <tr>\n",
       "      <th>2512</th>\n",
       "      <td>2014-10-28</td>\n",
       "      <td>26.684999</td>\n",
       "      <td>190756280</td>\n",
       "      <td>26.3500</td>\n",
       "      <td>26.684999</td>\n",
       "      <td>26.337500</td>\n",
       "    </tr>\n",
       "    <tr>\n",
       "      <th>2511</th>\n",
       "      <td>2014-10-29</td>\n",
       "      <td>26.834999</td>\n",
       "      <td>210182320</td>\n",
       "      <td>26.6625</td>\n",
       "      <td>26.842501</td>\n",
       "      <td>26.590000</td>\n",
       "    </tr>\n",
       "  </tbody>\n",
       "</table>\n",
       "</div>"
      ],
      "text/plain": [
       "           Date  Close/Last     Volume     Open       High        Low\n",
       "2515 2014-10-23   26.207500  283040600  26.0200  26.262800  25.907499\n",
       "2514 2014-10-24   26.305000  187751520  26.2950  26.372499  26.132500\n",
       "2513 2014-10-27   26.277500  136344480  26.2125  26.370001  26.174999\n",
       "2512 2014-10-28   26.684999  190756280  26.3500  26.684999  26.337500\n",
       "2511 2014-10-29   26.834999  210182320  26.6625  26.842501  26.590000"
      ]
     },
     "execution_count": 23,
     "metadata": {},
     "output_type": "execute_result"
    }
   ],
   "source": [
    "data.head()"
   ]
  },
  {
   "cell_type": "code",
   "execution_count": 27,
   "id": "dcb48216-4193-4fbc-9252-1116c4595579",
   "metadata": {},
   "outputs": [
    {
     "data": {
      "text/plain": [
       "<matplotlib.legend.Legend at 0x1580b3fa0>"
      ]
     },
     "execution_count": 27,
     "metadata": {},
     "output_type": "execute_result"
    },
    {
     "data": {
      "image/png": "[encoded data removed]",
      "text/plain": [
       "<Figure size 640x480 with 1 Axes>"
      ]
     },
     "metadata": {},
     "output_type": "display_data"
    }
   ],
   "source": [
    "plt.plot(data[\"Date\"], data[\"High\"], label = \"High\")\n",
    "plt.plot(data[\"Date\"], data[\"Low\"], label = \"Low\")\n",
    "plt.xlabel(\"Date (Year)\")\n",
    "plt.ylabel(\"Stock Price USD\")\n",
    "plt.legend()"
   ]
  },
  {
   "cell_type": "code",
   "execution_count": 34,
   "id": "4717bd9b-e08f-4a19-aeb2-cf559c837f9b",
   "metadata": {},
   "outputs": [
    {
     "data": {
      "text/plain": [
       "(torch.Size([2511, 5]), torch.Size([2511]))"
      ]
     },
     "execution_count": 34,
     "metadata": {},
     "output_type": "execute_result"
    }
   ],
   "source": [
    "high = data[\"High\"].to_numpy()\n",
    "\n",
    "def create_dataset(window_size):\n",
    "    X = []\n",
    "    y = []\n",
    "    for i in range(len(high)-window_size):\n",
    "        X.append(high[i:i+window_size])\n",
    "        y.append(high[i+window_size])\n",
    "    return torch.tensor(X),torch.tensor(y)\n",
    "\n",
    "X, y = create_dataset(5)\n",
    "X.shape, y.shape"
   ]
  },
  {
   "cell_type": "code",
   "execution_count": 35,
   "id": "117e1b0b-de09-4fee-a058-26b2d531b212",
   "metadata": {},
   "outputs": [
    {
     "name": "stdout",
     "output_type": "stream",
     "text": [
      "tensor([26.2628, 26.3725, 26.3700, 26.6850, 26.8425]) tensor(26.8375)\n",
      "tensor([26.3725, 26.3700, 26.6850, 26.8425, 26.8375]) tensor(27.0100)\n",
      "tensor([26.3700, 26.6850, 26.8425, 26.8375, 27.0100]) tensor(27.5750)\n"
     ]
    }
   ],
   "source": [
    "for i in range(3):\n",
    "    print(X[i], y[i])"
   ]
  },
  {
   "cell_type": "code",
   "execution_count": null,
   "id": "de929bb8-af24-4456-a261-9b1c66cd529b",
   "metadata": {},
   "outputs": [],
   "source": []
  }
 ],
 "metadata": {
  "kernelspec": {
   "display_name": "Python 3 (ipykernel)",
   "language": "python",
   "name": "python3"
  },
  "language_info": {
   "codemirror_mode": {
    "name": "ipython",
    "version": 3
   },
   "file_extension": ".py",
   "mimetype": "text/x-python",
   "name": "python",
   "nbconvert_exporter": "python",
   "pygments_lexer": "ipython3",
   "version": "3.9.6"
  }
 },
 "nbformat": 4,
 "nbformat_minor": 5
}
